{
 "cells": [
  {
   "cell_type": "markdown",
   "id": "dbe88be7-f3ab-46d0-b5d5-de4d2b8293a9",
   "metadata": {},
   "source": [
    "# Discussion and Q&A\n",
    "\n",
    "- Thank you for attending!\n",
    "\n",
    "- Everything presented today is available at https://github.com/vengroff/censusdis-tutorial\n",
    "\n",
    "- Try out the exercise in `Project Template.ipynb`\n",
    "\n",
    "- I will be around for all of PyData Seattle 2023. Catch me during a break if you have questions or comments.\n",
    "\n",
    "- Reach out to me at dev@datapinions.com.\n",
    "\n",
    "- My blog is www.datapinions.com."
   ]
  },
  {
   "cell_type": "code",
   "execution_count": null,
   "id": "1ddbf360-e4e2-41d7-a8b0-b12bb81c6122",
   "metadata": {},
   "outputs": [],
   "source": []
  }
 ],
 "metadata": {
  "kernelspec": {
   "display_name": "Python 3 (ipykernel)",
   "language": "python",
   "name": "python3"
  },
  "language_info": {
   "codemirror_mode": {
    "name": "ipython",
    "version": 3
   },
   "file_extension": ".py",
   "mimetype": "text/x-python",
   "name": "python",
   "nbconvert_exporter": "python",
   "pygments_lexer": "ipython3",
   "version": "3.9.10"
  }
 },
 "nbformat": 4,
 "nbformat_minor": 5
}
